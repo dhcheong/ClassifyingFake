{
 "cells": [
  {
   "cell_type": "markdown",
   "id": "d309e76f-bb2d-4e60-a22b-df8a442761fd",
   "metadata": {},
   "source": [
    "# Train and Test Split "
   ]
  },
  {
   "cell_type": "markdown",
   "id": "bdd7be4b-e9c1-453b-9ee7-1742ba8099c2",
   "metadata": {},
   "source": [
    "Since we have a relatively small number of fraudulent postings compared to non-fraudulent postings, we want to ensure that both the train and test set have the same percentage of fraudulent as the original dataset. In the original dataset, we have about 5% of fraudulent postings, so we will ensure that the train and test set have the same percentage to keep the representativeness of the train and test sets. We will use an 80%/20% split to ensure that we use the data with the balanced output class to avoid problems like overfitting or underfitting.\n",
    "\n",
    "To do this split correctly, we will do a **stratified train-test split** using the train_test_split() function in the scikit-learn Python machine-learning library. \n",
    "\n",
    "Here is the code I used to create the train and test set.\n"
   ]
  },
  {
   "cell_type": "code",
   "execution_count": 15,
   "id": "f5672a09-7452-4fad-84a3-8f178ca89b69",
   "metadata": {
    "tags": [
     "hide-output"
    ]
   },
   "outputs": [],
   "source": [
    "import pandas as pd \n",
    "from sklearn.model_selection import train_test_split\n",
    "data = pd.read_csv(\"./data/fake_job_postings.csv\")\n",
    "y = data.iloc[:, -1]\n",
    "X = data.iloc[:, :-1]\n",
    "X_train, X_test, y_train, y_test = train_test_split(X, y, test_size = 0.2, random_state = 42, stratify = y)"
   ]
  },
  {
   "cell_type": "markdown",
   "id": "c3deb6b0-d232-4b81-ae44-4643dd1fce7e",
   "metadata": {},
   "source": [
    "We will use the random_state = 42 to ensure that we get same train and test set throughout the book. "
   ]
  },
  {
   "cell_type": "markdown",
   "id": "eee8eb14-3de4-4399-9e97-5711f1dac4b2",
   "metadata": {},
   "source": [
    "```{note}\n",
    "In the original project, the raw training set had 5362 rows with 259 fradulent and the test set had 5000 rows with 50 fradulent. We had 5% of fradulent on the training set while we only have 1% of fradulent on the test set, indicating the train and test set for the original project were not created through a stratified train-test split. \n",
    "```"
   ]
  }
 ],
 "metadata": {
  "kernelspec": {
   "display_name": "Python 3 (ipykernel)",
   "language": "python",
   "name": "python3"
  },
  "language_info": {
   "codemirror_mode": {
    "name": "ipython",
    "version": 3
   },
   "file_extension": ".py",
   "mimetype": "text/x-python",
   "name": "python",
   "nbconvert_exporter": "python",
   "pygments_lexer": "ipython3",
   "version": "3.9.13"
  }
 },
 "nbformat": 4,
 "nbformat_minor": 5
}
