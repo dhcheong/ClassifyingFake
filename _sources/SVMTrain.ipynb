{
 "cells": [
  {
   "cell_type": "markdown",
   "id": "97b04ebf-0e63-41f0-bc9e-0972276afd1d",
   "metadata": {},
   "source": [
    "# SVM Result: Train Dataset"
   ]
  },
  {
   "cell_type": "markdown",
   "id": "c0dc7c75-2e88-4571-b27d-6d88e9c49c5c",
   "metadata": {},
   "source": [
    "In this section, we will fit the SVM to our training dataset and see its performance. We will use the tuned hyperparameters in the previous [section](SVMtuning.ipynb)."
   ]
  },
  {
   "cell_type": "code",
   "execution_count": 6,
   "id": "646d4337-9e9c-4e46-8041-3a29ca93006d",
   "metadata": {
    "tags": [
     "hide-output"
    ]
   },
   "outputs": [],
   "source": [
    "from sklearn.svm import SVC\n",
    "import matplotlib.pyplot as plt\n",
    "from sklearn.metrics import confusion_matrix, ConfusionMatrixDisplay\n",
    "from sklearn.metrics import classification_report\n",
    "import numpy as np \n",
    "import pandas as pd \n",
    "import pickle"
   ]
  },
  {
   "cell_type": "code",
   "execution_count": 8,
   "id": "3cd03bc1-4e8d-41c2-b562-8ee9c451f480",
   "metadata": {},
   "outputs": [],
   "source": [
    "feature_matrix_train = pd.read_csv(\"./data/final_feature_matrix.csv\", index_col = 0)\n",
    "X = feature_matrix_train.drop(\"fraudulent\", axis = 1).values\n",
    "y = feature_matrix_train.fraudulent.values"
   ]
  },
  {
   "cell_type": "code",
   "execution_count": 9,
   "id": "d6de97a1-93be-44c7-98e8-1524f773128d",
   "metadata": {},
   "outputs": [
    {
     "data": {
      "text/plain": [
       "SVC(C=10, gamma=1)"
      ]
     },
     "execution_count": 9,
     "metadata": {},
     "output_type": "execute_result"
    }
   ],
   "source": [
    "svm_model = SVC(C = 10,\n",
    "                gamma = 1,\n",
    "                kernel = 'rbf')\n",
    "\n",
    "svm_model.fit(X, y)"
   ]
  },
  {
   "cell_type": "code",
   "execution_count": 10,
   "id": "1786c879-70c0-46e3-bc02-891f747a0054",
   "metadata": {},
   "outputs": [],
   "source": [
    "y_predict =svm_model.predict(X)"
   ]
  },
  {
   "cell_type": "code",
   "execution_count": 11,
   "id": "014bc911-1516-4c2d-9f93-4d9def1cc65e",
   "metadata": {},
   "outputs": [
    {
     "data": {
      "text/plain": [
       "<sklearn.metrics._plot.confusion_matrix.ConfusionMatrixDisplay at 0x1cbadd350a0>"
      ]
     },
     "execution_count": 11,
     "metadata": {},
     "output_type": "execute_result"
    },
    {
     "data": {
      "image/png": "[encoded data removed]",
      "text/plain": [
       "<Figure size 640x480 with 2 Axes>"
      ]
     },
     "metadata": {},
     "output_type": "display_data"
    }
   ],
   "source": [
    "cm = confusion_matrix(y, y_predict, labels=svm_model.classes_)\n",
    "disp = ConfusionMatrixDisplay(confusion_matrix=cm, display_labels=svm_model.classes_)\n",
    "disp.plot()"
   ]
  },
  {
   "cell_type": "code",
   "execution_count": 12,
   "id": "3e9d9d30-dd31-479d-a8b2-188ed7909479",
   "metadata": {},
   "outputs": [
    {
     "name": "stdout",
     "output_type": "stream",
     "text": [
      "              precision    recall  f1-score   support\n",
      "\n",
      "           0       0.99      1.00      0.99     13611\n",
      "           1       0.99      0.79      0.88       693\n",
      "\n",
      "    accuracy                           0.99     14304\n",
      "   macro avg       0.99      0.89      0.94     14304\n",
      "weighted avg       0.99      0.99      0.99     14304\n",
      "\n"
     ]
    }
   ],
   "source": [
    "print(classification_report(y, y_predict))"
   ]
  },
  {
   "cell_type": "markdown",
   "id": "bce75bf1-21de-490c-ba99-568c5157ad6a",
   "metadata": {},
   "source": [
    "The performance of the SVM on the train data looks fair. The SVM performs worse than the random forest model, especially in recall rate. However, the result implies that the SVM overfits less than the SVM in the previous work, so it is excellent that we fixed the overfitting in the previous work!"
   ]
  },
  {
   "cell_type": "code",
   "execution_count": 13,
   "id": "27ee04a1-925c-4f06-9e52-08350be0929d",
   "metadata": {},
   "outputs": [],
   "source": [
    "with open('./pickle/svm_model.pkl', 'wb') as f:\n",
    "        pickle.dump(svm_model, f)"
   ]
  }
 ],
 "metadata": {
  "kernelspec": {
   "display_name": "Python 3 (ipykernel)",
   "language": "python",
   "name": "python3"
  },
  "language_info": {
   "codemirror_mode": {
    "name": "ipython",
    "version": 3
   },
   "file_extension": ".py",
   "mimetype": "text/x-python",
   "name": "python",
   "nbconvert_exporter": "python",
   "pygments_lexer": "ipython3",
   "version": "3.9.13"
  }
 },
 "nbformat": 4,
 "nbformat_minor": 5
}
