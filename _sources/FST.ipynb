{
 "cells": [
  {
   "cell_type": "markdown",
   "id": "b33a2141-9cee-4595-811a-cb25e36c56c8",
   "metadata": {},
   "source": [
    "# Text Feature Selection"
   ]
  },
  {
   "cell_type": "markdown",
   "id": "1f871ae0-1a1b-4927-93a4-16556e69dcc6",
   "metadata": {},
   "source": [
    "As we discussed in [here](featureselection.ipynb), we must perform the feature selection on text features first becuase it is causing MemeoryError due to its massive file size. Since we cannot use the `fraudulent` column, we will use several assumptions and unsupervised feature selection method to reduce its dimension."
   ]
  }
 ],
 "metadata": {
  "kernelspec": {
   "display_name": "Python 3 (ipykernel)",
   "language": "python",
   "name": "python3"
  },
  "language_info": {
   "codemirror_mode": {
    "name": "ipython",
    "version": 3
   },
   "file_extension": ".py",
   "mimetype": "text/x-python",
   "name": "python",
   "nbconvert_exporter": "python",
   "pygments_lexer": "ipython3",
   "version": "3.9.13"
  }
 },
 "nbformat": 4,
 "nbformat_minor": 5
}
