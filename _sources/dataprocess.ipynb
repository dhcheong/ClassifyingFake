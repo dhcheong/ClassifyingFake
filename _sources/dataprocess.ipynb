{
 "cells": [
  {
   "cell_type": "markdown",
   "id": "63c47791-1b47-4e36-953c-40af0d54b918",
   "metadata": {},
   "source": [
    "# Data Cleaning"
   ]
  }
 ],
 "metadata": {
  "kernelspec": {
   "display_name": "Python 3 (ipykernel)",
   "language": "python",
   "name": "python3"
  },
  "language_info": {
   "codemirror_mode": {
    "name": "ipython",
    "version": 3
   },
   "file_extension": ".py",
   "mimetype": "text/x-python",
   "name": "python",
   "nbconvert_exporter": "python",
   "pygments_lexer": "ipython3",
   "version": "3.9.13"
  }
 },
 "nbformat": 4,
 "nbformat_minor": 5
}
