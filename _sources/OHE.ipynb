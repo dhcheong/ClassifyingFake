{
 "cells": [
  {
   "cell_type": "markdown",
   "id": "901d9e66-85f7-4f85-8f98-c5986a530023",
   "metadata": {},
   "source": [
    "# One Hot Encoding Of The Categorical Variables"
   ]
  }
 ],
 "metadata": {
  "kernelspec": {
   "display_name": "Python 3 (ipykernel)",
   "language": "python",
   "name": "python3"
  },
  "language_info": {
   "codemirror_mode": {
    "name": "ipython",
    "version": 3
   },
   "file_extension": ".py",
   "mimetype": "text/x-python",
   "name": "python",
   "nbconvert_exporter": "python",
   "pygments_lexer": "ipython3",
   "version": "3.9.13"
  }
 },
 "nbformat": 4,
 "nbformat_minor": 5
}
