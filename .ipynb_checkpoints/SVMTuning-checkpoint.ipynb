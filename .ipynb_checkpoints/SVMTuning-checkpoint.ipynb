{
 "cells": [
  {
   "cell_type": "markdown",
   "id": "ccb51bc4-df3f-412c-b326-091f84d1f6b0",
   "metadata": {},
   "source": [
    "# Tuning the Hyperparameters of SVM"
   ]
  },
  {
   "cell_type": "markdown",
   "id": "5f799842-c5d2-4f3b-84c3-15939188cbbf",
   "metadata": {},
   "source": [
    "We have two parameters to tune for the SVM model: cost and gamma. \n",
    "\n",
    "1. Cost is a parameter that adjusts the level of soft margin.\n",
    "2. Gamma is the one that adjusts the level of curvature of our decision boundaries.\n",
    "\n",
    "We used the **radial kernel function** since it appeared to work the best. In order to tune the parameters, we used 5-fold cross-validation, but since we needed to find the best combination of these two parameters, we used a **grid-search algorithm** to find the best combination.\n",
    "\n",
    "We will perform 5 fold Cross Validation twice - one for accuracy and another one for area under the ROC - so that we can find the combination that will give us the most balanced result.\n",
    "\n",
    "### 5 Folds Cross Validation For Accuracy Using Grid Search Algorithm "
   ]
  },
  {
   "cell_type": "code",
   "execution_count": 35,
   "id": "528bc292-2f16-4d3d-9c41-08bcd27678fd",
   "metadata": {
    "tags": [
     "hide-output"
    ]
   },
   "outputs": [],
   "source": [
    "from sklearn.model_selection import GridSearchCV\n",
    "from sklearn.svm import SVC\n",
    "import numpy as np \n",
    "import pandas as pd \n",
    "import pickle"
   ]
  },
  {
   "cell_type": "code",
   "execution_count": 2,
   "id": "82efac38-490d-4518-9763-d93e5efe18ab",
   "metadata": {},
   "outputs": [],
   "source": [
    "feature_matrix_train = pd.read_csv(\"./data/final_feature_matrix.csv\", index_col = 0)\n",
    "X = feature_matrix_train.drop(\"fraudulent\", axis = 1).values\n",
    "y = feature_matrix_train.fraudulent.values"
   ]
  },
  {
   "cell_type": "code",
   "execution_count": 36,
   "id": "1e265cf8-3b3d-4df8-b136-783440cefbae",
   "metadata": {
    "tags": [
     "hide-output"
    ]
   },
   "outputs": [
    {
     "data": {
      "text/plain": [
       "GridSearchCV(estimator=SVC(),\n",
       "             param_grid={'C': [0.01, 0.1, 1, 10, 100],\n",
       "                         'gamma': [10, 1, 0.1, 0.01, 0.001],\n",
       "                         'kernel': ['rbf', 'poly']})"
      ]
     },
     "execution_count": 36,
     "metadata": {},
     "output_type": "execute_result"
    }
   ],
   "source": [
    "param_grid_acc = {'C': [0.01, 0.1, 1, 10, 100], \n",
    "              'gamma': [10, 1, 0.1, 0.01, 0.001],\n",
    "              'kernel': ['rbf','poly']} \n",
    "\n",
    "grid_acc = GridSearchCV(SVC(), param_grid_acc)\n",
    "grid_acc.fit(X, y)"
   ]
  },
  {
   "cell_type": "code",
   "execution_count": 39,
   "id": "7ace1fc6-8426-40af-9d2e-aebf14a5a40b",
   "metadata": {},
   "outputs": [],
   "source": [
    "dictionary_acc = grid_acc.cv_results_"
   ]
  },
  {
   "cell_type": "code",
   "execution_count": 38,
   "id": "55282e54-ffc2-4aa8-8760-190c2203a310",
   "metadata": {},
   "outputs": [
    {
     "name": "stdout",
     "output_type": "stream",
     "text": [
      "{'C': 10, 'gamma': 1, 'kernel': 'rbf'}\n"
     ]
    }
   ],
   "source": [
    "print(grid_acc.best_params_)"
   ]
  },
  {
   "cell_type": "markdown",
   "id": "0c28e818-5b37-4919-815a-96ba7df052ef",
   "metadata": {},
   "source": [
    "### 5 Folds Cross Validation For ROC AUC Using Grid Search Algorithm "
   ]
  },
  {
   "cell_type": "code",
   "execution_count": 49,
   "id": "d1cfcb67-5bb9-4973-9f5b-ee9cda9afb61",
   "metadata": {},
   "outputs": [
    {
     "data": {
      "text/plain": [
       "GridSearchCV(estimator=SVC(),\n",
       "             param_grid={'C': [0.01, 0.1, 1, 10, 100],\n",
       "                         'gamma': [10, 1, 0.1, 0.01, 0.001],\n",
       "                         'kernel': ['rbf', 'poly']},\n",
       "             scoring='roc_auc')"
      ]
     },
     "execution_count": 49,
     "metadata": {},
     "output_type": "execute_result"
    }
   ],
   "source": [
    "param_grid_auc = {'C': [0.01, 0.1, 1, 10, 100], \n",
    "              'gamma': [10, 1, 0.1, 0.01, 0.001],\n",
    "              'kernel': ['rbf', 'poly']} \n",
    "\n",
    "grid_auc = GridSearchCV(SVC(), param_grid_auc, scoring = \"roc_auc\")\n",
    "grid_auc.fit(X,y)"
   ]
  },
  {
   "cell_type": "code",
   "execution_count": 50,
   "id": "b9f0df87-a614-4a51-9130-b76e54389655",
   "metadata": {},
   "outputs": [],
   "source": [
    "dictionary_auc = grid_auc.cv_results_"
   ]
  },
  {
   "cell_type": "code",
   "execution_count": 51,
   "id": "11a5cf75-e43b-448e-af6e-f1a0fb373212",
   "metadata": {},
   "outputs": [
    {
     "name": "stdout",
     "output_type": "stream",
     "text": [
      "{'C': 1, 'gamma': 1, 'kernel': 'rbf'}\n"
     ]
    }
   ],
   "source": [
    "print(grid_auc.best_params_)"
   ]
  },
  {
   "cell_type": "markdown",
   "id": "b72be17a-d0a6-4195-92df-606b22c6a9da",
   "metadata": {},
   "source": [
    "### Result Summary"
   ]
  },
  {
   "cell_type": "code",
   "execution_count": 54,
   "id": "359af56d-db21-4504-b687-2c529bdaa65d",
   "metadata": {},
   "outputs": [
    {
     "data": {
      "text/html": [
       "<div>\n",
       "<style scoped>\n",
       "    .dataframe tbody tr th:only-of-type {\n",
       "        vertical-align: middle;\n",
       "    }\n",
       "\n",
       "    .dataframe tbody tr th {\n",
       "        vertical-align: top;\n",
       "    }\n",
       "\n",
       "    .dataframe thead th {\n",
       "        text-align: right;\n",
       "    }\n",
       "</style>\n",
       "<table border=\"1\" class=\"dataframe\">\n",
       "  <thead>\n",
       "    <tr style=\"text-align: right;\">\n",
       "      <th></th>\n",
       "      <th>C/gamma/kernel</th>\n",
       "      <th>Accuracy</th>\n",
       "      <th>ROC_AUC</th>\n",
       "    </tr>\n",
       "  </thead>\n",
       "  <tbody>\n",
       "    <tr>\n",
       "      <th>0</th>\n",
       "      <td>{'C': 10, 'gamma': 1, 'kernel': 'rbf'}</td>\n",
       "      <td>0.973434</td>\n",
       "      <td>0.932281</td>\n",
       "    </tr>\n",
       "    <tr>\n",
       "      <th>1</th>\n",
       "      <td>{'C': 100, 'gamma': 0.1, 'kernel': 'rbf'}</td>\n",
       "      <td>0.973294</td>\n",
       "      <td>0.926156</td>\n",
       "    </tr>\n",
       "    <tr>\n",
       "      <th>2</th>\n",
       "      <td>{'C': 100, 'gamma': 1, 'kernel': 'rbf'}</td>\n",
       "      <td>0.971966</td>\n",
       "      <td>0.925867</td>\n",
       "    </tr>\n",
       "    <tr>\n",
       "      <th>3</th>\n",
       "      <td>{'C': 1, 'gamma': 1, 'kernel': 'poly'}</td>\n",
       "      <td>0.971756</td>\n",
       "      <td>0.918377</td>\n",
       "    </tr>\n",
       "    <tr>\n",
       "      <th>4</th>\n",
       "      <td>{'C': 0.1, 'gamma': 1, 'kernel': 'poly'}</td>\n",
       "      <td>0.971197</td>\n",
       "      <td>0.922597</td>\n",
       "    </tr>\n",
       "    <tr>\n",
       "      <th>5</th>\n",
       "      <td>{'C': 100, 'gamma': 0.1, 'kernel': 'poly'}</td>\n",
       "      <td>0.971197</td>\n",
       "      <td>0.922602</td>\n",
       "    </tr>\n",
       "    <tr>\n",
       "      <th>6</th>\n",
       "      <td>{'C': 10, 'gamma': 0.1, 'kernel': 'rbf'}</td>\n",
       "      <td>0.970638</td>\n",
       "      <td>0.926423</td>\n",
       "    </tr>\n",
       "    <tr>\n",
       "      <th>7</th>\n",
       "      <td>{'C': 1, 'gamma': 1, 'kernel': 'rbf'}</td>\n",
       "      <td>0.969869</td>\n",
       "      <td>0.933279</td>\n",
       "    </tr>\n",
       "    <tr>\n",
       "      <th>8</th>\n",
       "      <td>{'C': 10, 'gamma': 10, 'kernel': 'rbf'}</td>\n",
       "      <td>0.969729</td>\n",
       "      <td>0.924050</td>\n",
       "    </tr>\n",
       "    <tr>\n",
       "      <th>9</th>\n",
       "      <td>{'C': 100, 'gamma': 0.01, 'kernel': 'rbf'}</td>\n",
       "      <td>0.969379</td>\n",
       "      <td>0.913966</td>\n",
       "    </tr>\n",
       "  </tbody>\n",
       "</table>\n",
       "</div>"
      ],
      "text/plain": [
       "                               C/gamma/kernel  Accuracy   ROC_AUC\n",
       "0      {'C': 10, 'gamma': 1, 'kernel': 'rbf'}  0.973434  0.932281\n",
       "1   {'C': 100, 'gamma': 0.1, 'kernel': 'rbf'}  0.973294  0.926156\n",
       "2     {'C': 100, 'gamma': 1, 'kernel': 'rbf'}  0.971966  0.925867\n",
       "3      {'C': 1, 'gamma': 1, 'kernel': 'poly'}  0.971756  0.918377\n",
       "4    {'C': 0.1, 'gamma': 1, 'kernel': 'poly'}  0.971197  0.922597\n",
       "5  {'C': 100, 'gamma': 0.1, 'kernel': 'poly'}  0.971197  0.922602\n",
       "6    {'C': 10, 'gamma': 0.1, 'kernel': 'rbf'}  0.970638  0.926423\n",
       "7       {'C': 1, 'gamma': 1, 'kernel': 'rbf'}  0.969869  0.933279\n",
       "8     {'C': 10, 'gamma': 10, 'kernel': 'rbf'}  0.969729  0.924050\n",
       "9  {'C': 100, 'gamma': 0.01, 'kernel': 'rbf'}  0.969379  0.913966"
      ]
     },
     "execution_count": 54,
     "metadata": {},
     "output_type": "execute_result"
    }
   ],
   "source": [
    "result_df = pd.DataFrame({\"C/gamma/kernel\" : dictionary_acc['params'],\n",
    "                          \"Accuracy\" : dictionary_acc['mean_test_score'],\n",
    "                         \"ROC_AUC\": dictionary_auc['mean_test_score']})\n",
    "result_df.sort_values(\"Accuracy\", ascending = False).reset_index(drop = True)[0:10]"
   ]
  },
  {
   "cell_type": "markdown",
   "id": "32769194-8a07-49b0-a750-f055a6a816be",
   "metadata": {},
   "source": [
    "The combination of {C = 10, gamma = 1, kernel = 'rbf'} gives the highest accuracy, while the combination of {C = 1, gamma =1, kernel = 'rbf'} gives the highest AUC. \n",
    "\n",
    "**We will choose {C = 10, gamma = 1, kernel = 'rbf'} as our final parameters for the SVM, since it has the most balanced score for both accuracy and ROC AUC.**"
   ]
  }
 ],
 "metadata": {
  "kernelspec": {
   "display_name": "Python 3 (ipykernel)",
   "language": "python",
   "name": "python3"
  },
  "language_info": {
   "codemirror_mode": {
    "name": "ipython",
    "version": 3
   },
   "file_extension": ".py",
   "mimetype": "text/x-python",
   "name": "python",
   "nbconvert_exporter": "python",
   "pygments_lexer": "ipython3",
   "version": "3.9.13"
  }
 },
 "nbformat": 4,
 "nbformat_minor": 5
}
