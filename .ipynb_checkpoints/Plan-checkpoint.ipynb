{
 "cells": [
  {
   "cell_type": "markdown",
   "id": "d309e76f-bb2d-4e60-a22b-df8a442761fd",
   "metadata": {},
   "source": [
    "# Train and Test Split "
   ]
  },
  {
   "cell_type": "markdown",
   "id": "bdd7be4b-e9c1-453b-9ee7-1742ba8099c2",
   "metadata": {},
   "source": [
    "Since we have a relatively small number of fraudulent postings compared to non-fraudulent postings, we want to ensure that both the train and test set have the same percentage of fraudulent as the original dataset. In the original dataset, we have about 5% of fraudulent postings, so we will ensure that the train and test set have the same percentage to keep the representativeness of the train and test sets. We will use an 80%/20% split to ensure that we have enough data to train our model. \n",
    "\n",
    "To do this split correctly, we will do a **stratified train-test split** using the train_test_split() function in the scikit-learn Python machine-learning library. \n",
    "\n",
    "Here is the code I used to create the train and test set.\n"
   ]
  }
 ],
 "metadata": {
  "kernelspec": {
   "display_name": "Python 3 (ipykernel)",
   "language": "python",
   "name": "python3"
  },
  "language_info": {
   "codemirror_mode": {
    "name": "ipython",
    "version": 3
   },
   "file_extension": ".py",
   "mimetype": "text/x-python",
   "name": "python",
   "nbconvert_exporter": "python",
   "pygments_lexer": "ipython3",
   "version": "3.9.13"
  }
 },
 "nbformat": 4,
 "nbformat_minor": 5
}
