{
 "cells": [
  {
   "cell_type": "markdown",
   "id": "bcc3a910-b8f7-4b9b-969e-86e0fb8faf9c",
   "metadata": {},
   "source": [
    "# Conclusion "
   ]
  },
  {
   "cell_type": "markdown",
   "id": "f5d3c671-f298-4a8a-bd18-0a9dfd2455a0",
   "metadata": {},
   "source": [
    "This section will summarize the project by presenting improvements and drawbacks compared to the previous work. \n",
    "\n",
    "## Improvement \n",
    "\n",
    "\n",
    "\n",
    "## Drawback \n",
    "\n",
    "\n",
    "## Concluding Remark \n",
    "\n",
    "Though our best model, the final random forest model, is far from perfect, we have set foot on a long but incredible journey of applying machine learning to solve problems. Throughout the process of understanding the data, cleaning the data, feature creation, training the model, and interpreting the results, we have had to make many relevant decisions. For instance, in training the random forest model, the lowest cross validation error and the highest sensitivity score both points to 300 trees, what is a good choice to make? Though we decided CV error is more important here, decisions like these aren’t always a clear cut, as they depend on the project requirements as well as data’s domain field. On our quest to conquer the infinite sets of problems in this whole wide world, we are confident that with larger samples as well as more time to delve into the data and tools, we can develop even better models than we have here. "
   ]
  }
 ],
 "metadata": {
  "kernelspec": {
   "display_name": "Python 3 (ipykernel)",
   "language": "python",
   "name": "python3"
  },
  "language_info": {
   "codemirror_mode": {
    "name": "ipython",
    "version": 3
   },
   "file_extension": ".py",
   "mimetype": "text/x-python",
   "name": "python",
   "nbconvert_exporter": "python",
   "pygments_lexer": "ipython3",
   "version": "3.9.13"
  }
 },
 "nbformat": 4,
 "nbformat_minor": 5
}
