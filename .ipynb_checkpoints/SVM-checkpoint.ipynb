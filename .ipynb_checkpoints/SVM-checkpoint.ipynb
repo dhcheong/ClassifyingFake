{
 "cells": [
  {
   "cell_type": "markdown",
   "id": "e84a1734-8948-49de-93e9-f9a9258a216e",
   "metadata": {},
   "source": [
    "# SVM"
   ]
  },
  {
   "cell_type": "markdown",
   "id": "c4561135-00a1-4979-a472-928a47374247",
   "metadata": {},
   "source": [
    "In this chapter, we will use the random forest model and try to make the best prediction on the test dataset. We will thoroughly go over all steps, from tuning the hyperparameters to fitting the algorithm to the test dataset. "
   ]
  }
 ],
 "metadata": {
  "kernelspec": {
   "display_name": "Python 3 (ipykernel)",
   "language": "python",
   "name": "python3"
  },
  "language_info": {
   "codemirror_mode": {
    "name": "ipython",
    "version": 3
   },
   "file_extension": ".py",
   "mimetype": "text/x-python",
   "name": "python",
   "nbconvert_exporter": "python",
   "pygments_lexer": "ipython3",
   "version": "3.9.13"
  }
 },
 "nbformat": 4,
 "nbformat_minor": 5
}
