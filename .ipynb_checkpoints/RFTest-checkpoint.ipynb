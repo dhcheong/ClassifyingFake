{
 "cells": [
  {
   "cell_type": "markdown",
   "id": "ca6fca7f-1600-4097-9588-96a1d607f4ea",
   "metadata": {},
   "source": [
    "# Random Forest Result: Test Dataset"
   ]
  },
  {
   "cell_type": "markdown",
   "id": "4f5e2b61-c585-4d5b-8497-d2654c77872c",
   "metadata": {},
   "source": [
    "In this section, we will see the performance of our trained random forest model using the test dataset."
   ]
  },
  {
   "cell_type": "code",
   "execution_count": 1,
   "id": "7482b7ff-485c-48f7-9291-1dba07717b1a",
   "metadata": {
    "tags": [
     "hide-output"
    ]
   },
   "outputs": [],
   "source": [
    "from sklearn.ensemble import RandomForestClassifier\n",
    "import matplotlib.pyplot as plt\n",
    "from sklearn.metrics import confusion_matrix, ConfusionMatrixDisplay\n",
    "from sklearn.metrics import classification_report\n",
    "import numpy as np \n",
    "import pandas as pd \n",
    "import pickle"
   ]
  },
  {
   "cell_type": "code",
   "execution_count": 2,
   "id": "0025972e-19e1-413a-8cd0-7c6811bbd909",
   "metadata": {},
   "outputs": [],
   "source": [
    "feature_matrix_test = pd.read_csv(\"./data/final_feature_matrix_test.csv\", index_col = 0)\n",
    "X = feature_matrix_test.drop(\"fraudulent\", axis = 1).values\n",
    "y = feature_matrix_test.fraudulent.values"
   ]
  },
  {
   "cell_type": "code",
   "execution_count": 3,
   "id": "f74bc20a-78ca-49a9-be96-7c3a8e13c8b4",
   "metadata": {},
   "outputs": [],
   "source": [
    "with open('./pickle/rf_model.pkl', 'rb') as f:\n",
    "    rf_model = pickle.load(f)"
   ]
  },
  {
   "cell_type": "code",
   "execution_count": 4,
   "id": "9c83d3a7-3ded-44dd-8b0b-f309b63c6455",
   "metadata": {},
   "outputs": [],
   "source": [
    "y_predict =rf_model.predict(X)"
   ]
  },
  {
   "cell_type": "code",
   "execution_count": 5,
   "id": "b5e7a2e8-2a89-4a6c-8709-ede35e12edb4",
   "metadata": {},
   "outputs": [
    {
     "data": {
      "text/plain": [
       "<sklearn.metrics._plot.confusion_matrix.ConfusionMatrixDisplay at 0x1e3df417dc0>"
      ]
     },
     "execution_count": 5,
     "metadata": {},
     "output_type": "execute_result"
    },
    {
     "data": {
      "image/png": "[encoded data removed]",
      "text/plain": [
       "<Figure size 640x480 with 2 Axes>"
      ]
     },
     "metadata": {},
     "output_type": "display_data"
    }
   ],
   "source": [
    "cm = confusion_matrix(y, y_predict, labels=rf_model.classes_)\n",
    "disp = ConfusionMatrixDisplay(confusion_matrix=cm, display_labels=rf_model.classes_)\n",
    "disp.plot()"
   ]
  },
  {
   "cell_type": "code",
   "execution_count": 7,
   "id": "83276c10-77ee-45ee-b92a-555b508cdc43",
   "metadata": {},
   "outputs": [
    {
     "name": "stdout",
     "output_type": "stream",
     "text": [
      "              precision    recall  f1-score   support\n",
      "\n",
      "           0       0.98      1.00      0.99      3403\n",
      "           1       0.96      0.64      0.77       173\n",
      "\n",
      "    accuracy                           0.98      3576\n",
      "   macro avg       0.97      0.82      0.88      3576\n",
      "weighted avg       0.98      0.98      0.98      3576\n",
      "\n"
     ]
    }
   ],
   "source": [
    "print(classification_report(y, y_predict))"
   ]
  },
  {
   "cell_type": "markdown",
   "id": "da73a5b5-ea65-4535-bbc9-88654be64ac7",
   "metadata": {},
   "source": [
    "The performance of the random forest model on the test set seems adequate. Compared to the previous work, we see an improvement in accuracy (97.4% to 98.1%) but a drawback in recall rate (67% to 64%)."
   ]
  }
 ],
 "metadata": {
  "kernelspec": {
   "display_name": "Python 3 (ipykernel)",
   "language": "python",
   "name": "python3"
  },
  "language_info": {
   "codemirror_mode": {
    "name": "ipython",
    "version": 3
   },
   "file_extension": ".py",
   "mimetype": "text/x-python",
   "name": "python",
   "nbconvert_exporter": "python",
   "pygments_lexer": "ipython3",
   "version": "3.9.13"
  }
 },
 "nbformat": 4,
 "nbformat_minor": 5
}
