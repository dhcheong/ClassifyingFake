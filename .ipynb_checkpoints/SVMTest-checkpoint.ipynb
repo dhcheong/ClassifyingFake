{
 "cells": [
  {
   "cell_type": "markdown",
   "id": "9a137f8d-6d83-4349-a668-e2d76dac16a5",
   "metadata": {},
   "source": [
    "# SVM Result: Test Dataset"
   ]
  },
  {
   "cell_type": "markdown",
   "id": "95316f37-6a64-45df-9bb5-9e9458647991",
   "metadata": {},
   "source": [
    "In this section, we will see the performance of the trained SVM on the test dataset. "
   ]
  },
  {
   "cell_type": "code",
   "execution_count": 1,
   "id": "2d84d46a-6d66-48fd-a854-9d27d3ad7c9e",
   "metadata": {
    "tags": [
     "hide-output"
    ]
   },
   "outputs": [],
   "source": [
    "from sklearn.svm import SVC\n",
    "import matplotlib.pyplot as plt\n",
    "from sklearn.metrics import confusion_matrix, ConfusionMatrixDisplay\n",
    "from sklearn.metrics import classification_report\n",
    "import numpy as np \n",
    "import pandas as pd \n",
    "import pickle"
   ]
  },
  {
   "cell_type": "code",
   "execution_count": 2,
   "id": "4ab942bb-734c-4339-8da4-f1dd4df57872",
   "metadata": {},
   "outputs": [],
   "source": [
    "feature_matrix_test = pd.read_csv(\"./data/final_feature_matrix_test.csv\", index_col = 0)\n",
    "X = feature_matrix_test.drop(\"fraudulent\", axis = 1).values\n",
    "y = feature_matrix_test.fraudulent.values"
   ]
  },
  {
   "cell_type": "code",
   "execution_count": 3,
   "id": "74a8d76e-858e-42ec-9cb0-838a3ab04597",
   "metadata": {},
   "outputs": [],
   "source": [
    "with open('./pickle/svm_model.pkl', 'rb') as f:\n",
    "    svm_model = pickle.load(f)"
   ]
  },
  {
   "cell_type": "code",
   "execution_count": 4,
   "id": "98211e9a-f4c0-4e76-a6c7-162fd1b884ff",
   "metadata": {},
   "outputs": [],
   "source": [
    "y_predict =svm_model.predict(X)"
   ]
  },
  {
   "cell_type": "code",
   "execution_count": 5,
   "id": "b0716be9-c8d0-4b47-a612-2656aaf2e407",
   "metadata": {},
   "outputs": [
    {
     "data": {
      "text/plain": [
       "<sklearn.metrics._plot.confusion_matrix.ConfusionMatrixDisplay at 0x276fc88bd30>"
      ]
     },
     "execution_count": 5,
     "metadata": {},
     "output_type": "execute_result"
    },
    {
     "data": {
      "image/png": "[encoded data removed]",
      "text/plain": [
       "<Figure size 640x480 with 2 Axes>"
      ]
     },
     "metadata": {},
     "output_type": "display_data"
    }
   ],
   "source": [
    "cm = confusion_matrix(y, y_predict, labels=svm_model.classes_)\n",
    "disp = ConfusionMatrixDisplay(confusion_matrix=cm, display_labels=svm_model.classes_)\n",
    "disp.plot()"
   ]
  },
  {
   "cell_type": "code",
   "execution_count": 6,
   "id": "e6f19d54-a4b8-4025-a3bb-e2825ad03538",
   "metadata": {},
   "outputs": [
    {
     "name": "stdout",
     "output_type": "stream",
     "text": [
      "              precision    recall  f1-score   support\n",
      "\n",
      "           0       0.98      1.00      0.99      3403\n",
      "           1       0.93      0.58      0.71       173\n",
      "\n",
      "    accuracy                           0.98      3576\n",
      "   macro avg       0.95      0.79      0.85      3576\n",
      "weighted avg       0.98      0.98      0.97      3576\n",
      "\n"
     ]
    }
   ],
   "source": [
    "print(classification_report(y, y_predict))"
   ]
  },
  {
   "cell_type": "markdown",
   "id": "c2f1c2f8-a500-4660-8bfc-5135057fca8b",
   "metadata": {},
   "source": [
    "The performance of SVM on the test set looks great! Compared to the SVM in the previous work, we have improved on both accuracy and recall rate. Especially there is quite an impressive improvement in the recall rate (30% to 58%), which implies another improvement in fixing the overfitting problem that arose in the previous work. "
   ]
  }
 ],
 "metadata": {
  "kernelspec": {
   "display_name": "Python 3 (ipykernel)",
   "language": "python",
   "name": "python3"
  },
  "language_info": {
   "codemirror_mode": {
    "name": "ipython",
    "version": 3
   },
   "file_extension": ".py",
   "mimetype": "text/x-python",
   "name": "python",
   "nbconvert_exporter": "python",
   "pygments_lexer": "ipython3",
   "version": "3.9.13"
  }
 },
 "nbformat": 4,
 "nbformat_minor": 5
}
