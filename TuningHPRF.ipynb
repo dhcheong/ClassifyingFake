{
 "cells": [
  {
   "cell_type": "markdown",
   "id": "d2a5dd58-46a9-4b45-8b74-93cf7bc6bb6a",
   "metadata": {},
   "source": [
    "# Tuning the Hyperparameters of the Random Forest Model"
   ]
  },
  {
   "cell_type": "markdown",
   "id": "40f55ceb-ee92-4e44-a882-cc7761955f73",
   "metadata": {},
   "source": [
    "In this section, we will explore tuning the hyperparameters of the Random Forest model. Here are the parameters that we will tune in this section. \n",
    "\n",
    "```{note}\n",
    "Note that we are using a random forest model from the sklearn package. \n",
    "```\n",
    "\n",
    "* **criterion:** Random Forest model from the sklearn package provide three different measurements for the quality of the tree: \"Gini\" and \"entropy,\". It would be great to know which measurement is a better fit. \n",
    "\n",
    "* **n_estimators:** We usually don't need to tune this variable since more estimators are generally better for a random forest. However, in the original project, we discovered a slight chance of over-fitting with the number of estimators, so I included it. \n",
    "\n",
    "* **max_depth:** We want to tune this variable since the depth of the tree can be closely related to over-fitting.\n",
    "\n",
    "* **max_features:** The rule of thumb of the max_features is the square of the number of features, but we must tune this variable since the number could be more optimal. \n",
    "\n",
    "* **class_weight:** This is very important because our dataset has highly imbalanced numbers of fraudulent and non-fraudulent postings. We need to tune the weight of each class so that we balance our final result. \n",
    "\n",
    "```{note}\n",
    "When we adjust the class_weight, we need to focus more on the recall rate, not the overall accuracy. Since we have much more non-fraudulent postings (95%) than fraudulent postings (5%), even a null classifier that always predicts the posing as non-fraudulent will get 95% accuracy. Since detecting a fraudulent posting is a primary focus of the project, we need to tune the class_weight with the AUC of the ROC curve.\n",
    "```\n",
    "\n",
    "## Procedure:\n",
    "\n",
    "1. n_estimators, max_depth, max_features, and criterion will be tuned using the Hyperopt package, which uses a Bayesian optimization for tuning the hyperparameters.\n",
    "2. class_weight will be tuned using cross-validation with ROC_AUC as a score. \n",
    "3. Since the fraudulent should have more weight than the non-fraudulent, we will choose among {0: 1, 1:1.3}, {0: 1, 1:1.6}, {0: 1, 1:1.9}, {0:1, 1:2.2}, {0:1, 1:2.5} for the class_weight. In other words, we are doing a total of five cross-validations. \n",
    "4. This means we will tune n_estimators, max_depth, max_features, and criterion for each cross-validation using Hyperopt. We are also using Hyperopt five times. "
   ]
  },
  {
   "cell_type": "code",
   "execution_count": 87,
   "id": "e1e49317-14bc-4eae-b355-cbd4c50cea63",
   "metadata": {
    "tags": [
     "hide-output"
    ]
   },
   "outputs": [],
   "source": [
    "import numpy as np \n",
    "import pandas as pd \n",
    "from sklearn.ensemble import RandomForestClassifier \n",
    "from sklearn import metrics\n",
    "from sklearn.model_selection import cross_val_score\n",
    "from sklearn.preprocessing import StandardScaler \n",
    "from hyperopt import tpe, hp, fmin, STATUS_OK,Trials\n",
    "from hyperopt.pyll.base import scope\n",
    "from hyperopt import Trials \n",
    "from sklearn.utils import shuffle"
   ]
  },
  {
   "cell_type": "code",
   "execution_count": 3,
   "id": "6ede4c4b-15eb-4d2b-b515-d60cea11585d",
   "metadata": {},
   "outputs": [],
   "source": [
    "text_features = pd.read_csv(\"./data/final_feature_matrix.csv\", index_col = 0)"
   ]
  },
  {
   "cell_type": "code",
   "execution_count": 26,
   "id": "9455272c-ec22-4126-9f4a-10acbe2fd203",
   "metadata": {},
   "outputs": [],
   "source": [
    "X = text_features.drop(\"fraudulent\", axis = 1).values\n",
    "y = text_features.fraudulent.values"
   ]
  },
  {
   "cell_type": "markdown",
   "id": "fa2f2471-bf84-4cca-baef-c34cc2b8204f",
   "metadata": {},
   "source": [
    "## Tuning The Random Forest Model with class_weight = {0: 1, 1: 1.3}"
   ]
  },
  {
   "cell_type": "code",
   "execution_count": 33,
   "id": "901f57e4-a40f-49eb-855d-48ccb9a5923d",
   "metadata": {},
   "outputs": [],
   "source": [
    "space = {\n",
    "    \"n_estimators\": hp.choice(\"n_estimators\", [100, 200, 300]),\n",
    "    \"max_depth\": hp.uniform(\"max_depth\", 30, 50),\n",
    "    \"criterion\": hp.choice(\"criterion\", [\"gini\", \"entropy\"]),\n",
    "    \"max_features\": hp.choice(\"max_features\", [10, 12, 14, 16, 18, 20, 22])\n",
    "}"
   ]
  },
  {
   "cell_type": "code",
   "execution_count": 34,
   "id": "81b3db81-28e6-4cd9-a670-d8962170021a",
   "metadata": {},
   "outputs": [],
   "source": [
    "def hyperparameter_tuning_first(params):\n",
    "    clf = RandomForestClassifier(**params, class_weight = {0:1, 1:1.3})\n",
    "    acc = cross_val_score(clf, X, y, scoring=\"accuracy\").mean()\n",
    "    return {\"loss\": -acc, \"status\": STATUS_OK}"
   ]
  },
  {
   "cell_type": "code",
   "execution_count": 35,
   "id": "7a89386f-fe1d-49c4-9b8d-567303895668",
   "metadata": {},
   "outputs": [
    {
     "name": "stdout",
     "output_type": "stream",
     "text": [
      "100%|███████████████████████████████████████████| 100/100 [2:19:23<00:00, 83.64s/trial, best loss: -0.9792366598797917]\n",
      "Best: {'criterion': 0, 'max_depth': 34.6262742855114, 'max_features': 4, 'n_estimators': 1}\n"
     ]
    }
   ],
   "source": [
    "trials = Trials()\n",
    "\n",
    "best = fmin(\n",
    "    fn=hyperparameter_tuning_first,\n",
    "    space = space, \n",
    "    algo=tpe.suggest, \n",
    "    max_evals=100, \n",
    "    trials=trials\n",
    ")\n",
    "\n",
    "print(\"Best: {}\".format(best))"
   ]
  },
  {
   "cell_type": "markdown",
   "id": "419d2bb9-6a01-48da-8cbe-236526242522",
   "metadata": {},
   "source": [
    "### Cross Validation: ROC_AUC Score of The Random Forest Model With class_weight = {0:1, 1: 1.3} And Tuned Parameters"
   ]
  },
  {
   "cell_type": "code",
   "execution_count": 88,
   "id": "9ccc58c7-f516-4229-9d67-6b70e2d349b9",
   "metadata": {},
   "outputs": [],
   "source": [
    "first_rf = RandomForestClassifier(criterion = \"gini\", \n",
    "                                  max_depth = 35, \n",
    "                                  max_features = 18,\n",
    "                                  n_estimators = 200,\n",
    "                                  class_weight = {0:1, 1:1.3})"
   ]
  },
  {
   "cell_type": "code",
   "execution_count": 90,
   "id": "17f04624-5d56-4975-a39d-4e7edb143eb4",
   "metadata": {},
   "outputs": [
    {
     "data": {
      "text/plain": [
       "0.9639459787898208"
      ]
     },
     "execution_count": 90,
     "metadata": {},
     "output_type": "execute_result"
    }
   ],
   "source": [
    "X_s, y_s = shuffle(X, y)\n",
    "first_cv_result = cross_val_score(first_rf, X_s, y_s, cv=10, scoring=\"roc_auc\").mean()\n",
    "first_cv_result"
   ]
  },
  {
   "cell_type": "markdown",
   "id": "b8d4aaec-b326-4a95-b790-cdc0b8ac3f01",
   "metadata": {},
   "source": [
    "## Tuning The Random Forest Model with class_weight = {0: 1, 1: 1.6}"
   ]
  },
  {
   "cell_type": "code",
   "execution_count": 54,
   "id": "515383a2-5f46-4fa4-8593-0f219c28cd21",
   "metadata": {},
   "outputs": [],
   "source": [
    "space_two = {\n",
    "    \"n_estimators\": hp.choice(\"n_estimators\", [200, 300, 400]),\n",
    "    \"max_depth\": hp.uniform(\"max_depth\", 30, 40),\n",
    "    \"criterion\": hp.choice(\"criterion\", [\"gini\", \"entropy\"]),\n",
    "    \"max_features\": hp.choice(\"max_features\", [20, 22, 24, 26])\n",
    "}"
   ]
  },
  {
   "cell_type": "code",
   "execution_count": 55,
   "id": "1fc35962-395b-4e27-abf2-d20bf220d6d1",
   "metadata": {},
   "outputs": [],
   "source": [
    "def hyperparameter_tuning_second(params):\n",
    "    clf = RandomForestClassifier(**params, class_weight = {0:1, 1:1.6})\n",
    "    acc = cross_val_score(clf, X, y, scoring=\"accuracy\").mean()\n",
    "    return {\"loss\": -acc, \"status\": STATUS_OK}"
   ]
  },
  {
   "cell_type": "code",
   "execution_count": 56,
   "id": "06519935-e30a-49e8-891b-20e08bd0dc14",
   "metadata": {
    "tags": []
   },
   "outputs": [
    {
     "name": "stdout",
     "output_type": "stream",
     "text": [
      "100%|████████████████████████████████████████████| 50/50 [2:18:12<00:00, 165.84s/trial, best loss: -0.9794464012045279]\n",
      "Best: {'criterion': 0, 'max_depth': 35.18631376404232, 'max_features': 2, 'n_estimators': 1}\n"
     ]
    }
   ],
   "source": [
    "trials_two = Trials()\n",
    "\n",
    "best_two = fmin(\n",
    "    fn=hyperparameter_tuning_second,\n",
    "    space = space_two, \n",
    "    algo=tpe.suggest, \n",
    "    max_evals=50, \n",
    "    trials=trials_two\n",
    ")\n",
    "\n",
    "print(\"Best: {}\".format(best_two))"
   ]
  },
  {
   "cell_type": "markdown",
   "id": "f100f849-6260-4c4d-9a34-ea697aa7a01e",
   "metadata": {},
   "source": [
    "### Cross Validation: ROC_AUC Score of The Random Forest Model With class_weight = {0:1, 1: 1.6} And Tuned Parameters"
   ]
  },
  {
   "cell_type": "code",
   "execution_count": 91,
   "id": "67eee32b-691a-4924-ba0f-d807a289cb64",
   "metadata": {},
   "outputs": [],
   "source": [
    "second_rf = RandomForestClassifier(criterion = \"gini\", \n",
    "                                   max_depth = 35, \n",
    "                                   max_features = 24,\n",
    "                                   n_estimators = 300,\n",
    "                                   class_weight = {0:1, 1:1.6})"
   ]
  },
  {
   "cell_type": "code",
   "execution_count": 92,
   "id": "4ce807f5-b154-43b1-b79d-1491bd3eebfd",
   "metadata": {},
   "outputs": [
    {
     "data": {
      "text/plain": [
       "0.964084562106477"
      ]
     },
     "execution_count": 92,
     "metadata": {},
     "output_type": "execute_result"
    }
   ],
   "source": [
    "second_cv_result = cross_val_score(second_rf, X_s, y_s, cv=10, scoring=\"roc_auc\").mean()\n",
    "second_cv_result"
   ]
  },
  {
   "cell_type": "markdown",
   "id": "b7d154bf-9a22-4f50-86a6-3d92edbfc15e",
   "metadata": {},
   "source": [
    "## Tuning The Random Forest Model with class_weight = {0: 1, 1: 1.9}"
   ]
  },
  {
   "cell_type": "code",
   "execution_count": 70,
   "id": "8d90c997-b90b-46f3-a4ef-cc7b5ae486d3",
   "metadata": {},
   "outputs": [],
   "source": [
    "space_three = {\n",
    "    \"n_estimators\": hp.choice(\"n_estimators\", [200, 300, 400]),\n",
    "    \"max_depth\": hp.uniform(\"max_depth\", 30, 40),\n",
    "    \"criterion\": hp.choice(\"criterion\", [\"gini\", \"entropy\"]),\n",
    "    \"max_features\": hp.choice(\"max_features\", [24, 26, 28, 30])\n",
    "}"
   ]
  },
  {
   "cell_type": "code",
   "execution_count": 68,
   "id": "6d658617-04bb-4536-9f72-3327e22beb2e",
   "metadata": {},
   "outputs": [],
   "source": [
    "def hyperparameter_tuning_thrid(params):\n",
    "    clf = RandomForestClassifier(**params, class_weight = {0:1, 1:1.9})\n",
    "    acc = cross_val_score(clf, X, y, scoring=\"accuracy\").mean()\n",
    "    return {\"loss\": -acc, \"status\": STATUS_OK}"
   ]
  },
  {
   "cell_type": "code",
   "execution_count": 69,
   "id": "74db6604-e12c-407e-84d6-0c82b29eae2b",
   "metadata": {},
   "outputs": [
    {
     "name": "stdout",
     "output_type": "stream",
     "text": [
      "100%|█████████████████████████████████████████████| 50/50 [1:09:40<00:00, 83.60s/trial, best loss: -0.9797260237141397]\n",
      "Best: {'criterion': 0, 'max_depth': 32.19118649485558, 'max_features': 2, 'n_estimators': 0}\n"
     ]
    }
   ],
   "source": [
    "trials_three = Trials()\n",
    "\n",
    "best_three = fmin(\n",
    "    fn=hyperparameter_tuning_thrid,\n",
    "    space = space_three, \n",
    "    algo=tpe.suggest, \n",
    "    max_evals=50, \n",
    "    trials=trials_three\n",
    ")\n",
    "\n",
    "print(\"Best: {}\".format(best_three))"
   ]
  },
  {
   "cell_type": "markdown",
   "id": "d4e19674-17d3-4d66-8929-047bd2679932",
   "metadata": {},
   "source": [
    "### Cross Validation: ROC_AUC Score of The Random Forest Model With class_weight = {0:1, 1: 1.9} And Tuned Parameters"
   ]
  },
  {
   "cell_type": "code",
   "execution_count": 95,
   "id": "164162e0-2d47-4722-ac00-65bbfb130f35",
   "metadata": {},
   "outputs": [],
   "source": [
    "third_rf = RandomForestClassifier(criterion = \"gini\", \n",
    "                                   max_depth = 32, \n",
    "                                   max_features = 28,\n",
    "                                   n_estimators = 200,\n",
    "                                   class_weight = {0:1, 1:1.9})"
   ]
  },
  {
   "cell_type": "code",
   "execution_count": 96,
   "id": "f9a1c74b-b8f2-4ae9-b956-a1dd870e21b8",
   "metadata": {},
   "outputs": [
    {
     "data": {
      "text/plain": [
       "0.9608796667621868"
      ]
     },
     "execution_count": 96,
     "metadata": {},
     "output_type": "execute_result"
    }
   ],
   "source": [
    "third_cv_result = cross_val_score(third_rf, X_s, y_s, cv=10, scoring=\"roc_auc\").mean()\n",
    "third_cv_result"
   ]
  },
  {
   "cell_type": "markdown",
   "id": "b6b1af45-6f53-4f18-9833-f45bcfcd59ef",
   "metadata": {},
   "source": [
    "## Tuning The Random Forest Model with class_weight = {0: 1, 1: 2.2}"
   ]
  },
  {
   "cell_type": "code",
   "execution_count": 71,
   "id": "77c71914-8616-4ecd-a7d6-c6230c1c308e",
   "metadata": {},
   "outputs": [],
   "source": [
    "space_four = {\n",
    "    \"n_estimators\": hp.choice(\"n_estimators\", [200, 300, 400]),\n",
    "    \"max_depth\": hp.uniform(\"max_depth\", 30, 40),\n",
    "    \"criterion\": hp.choice(\"criterion\", [\"gini\", \"entropy\"]),\n",
    "    \"max_features\": hp.choice(\"max_features\", [24, 26, 28, 30, 32])\n",
    "}"
   ]
  },
  {
   "cell_type": "code",
   "execution_count": 72,
   "id": "a152e640-9a11-4700-a424-1a97328f4b74",
   "metadata": {},
   "outputs": [],
   "source": [
    "def hyperparameter_tuning_fourth(params):\n",
    "    clf = RandomForestClassifier(**params, class_weight = {0:1, 1:2.2})\n",
    "    acc = cross_val_score(clf, X, y, scoring=\"accuracy\").mean()\n",
    "    return {\"loss\": -acc, \"status\": STATUS_OK}"
   ]
  },
  {
   "cell_type": "code",
   "execution_count": 73,
   "id": "e6593ba5-f136-4a16-819f-d9426f5e2ab9",
   "metadata": {},
   "outputs": [
    {
     "name": "stdout",
     "output_type": "stream",
     "text": [
      "100%|████████████████████████████████████████████| 50/50 [2:40:56<00:00, 193.13s/trial, best loss: -0.9793764466920706]\n",
      "Best: {'criterion': 0, 'max_depth': 38.834973080192476, 'max_features': 3, 'n_estimators': 2}\n"
     ]
    }
   ],
   "source": [
    "trials_four = Trials()\n",
    "\n",
    "best_four = fmin(\n",
    "    fn=hyperparameter_tuning_fourth,\n",
    "    space = space_four, \n",
    "    algo=tpe.suggest, \n",
    "    max_evals=50, \n",
    "    trials=trials_four\n",
    ")\n",
    "\n",
    "print(\"Best: {}\".format(best_four))"
   ]
  },
  {
   "cell_type": "markdown",
   "id": "5be0e1c7-6452-4cff-88f1-afb67abb6310",
   "metadata": {},
   "source": [
    "### Cross Validation: ROC_AUC Score of The Random Forest Model With class_weight = {0:1, 1: 2.2} And Tuned Parameters"
   ]
  },
  {
   "cell_type": "code",
   "execution_count": 97,
   "id": "e2db45de-095f-4d1d-8af7-89abe6617956",
   "metadata": {},
   "outputs": [],
   "source": [
    "fourth_rf = RandomForestClassifier(criterion = \"gini\", \n",
    "                                   max_depth = 39, \n",
    "                                   max_features = 30,\n",
    "                                   n_estimators = 400,\n",
    "                                   class_weight = {0:1, 1:2.2})"
   ]
  },
  {
   "cell_type": "code",
   "execution_count": 98,
   "id": "ddf46d4e-5edf-41b1-b796-eb6843038a2b",
   "metadata": {},
   "outputs": [
    {
     "data": {
      "text/plain": [
       "0.9607872249839016"
      ]
     },
     "execution_count": 98,
     "metadata": {},
     "output_type": "execute_result"
    }
   ],
   "source": [
    "fourth_cv_result = cross_val_score(fourth_rf, X_s, y_s, cv=10, scoring=\"roc_auc\").mean()\n",
    "fourth_cv_result"
   ]
  },
  {
   "cell_type": "markdown",
   "id": "e5c97bd9-4d7d-4b74-993f-5af1e7ce81f0",
   "metadata": {},
   "source": [
    "## Tuning The Random Forest Model with class_weight = {0: 1, 1: 2.5}"
   ]
  },
  {
   "cell_type": "code",
   "execution_count": 84,
   "id": "7db6e6ae-34a8-405a-8eaa-02e473475b60",
   "metadata": {},
   "outputs": [],
   "source": [
    "space_five = {\n",
    "    \"n_estimators\": hp.choice(\"n_estimators\", [200, 300, 400]),\n",
    "    \"max_depth\": hp.uniform(\"max_depth\", 30, 40),\n",
    "    \"criterion\": hp.choice(\"criterion\", [\"gini\", \"entropy\"]),\n",
    "    \"max_features\": hp.choice(\"max_features\", [18, 20, 22, 24, 26])\n",
    "}"
   ]
  },
  {
   "cell_type": "code",
   "execution_count": 85,
   "id": "82ac24d2-2ad3-44fe-836c-f95f5b58afb1",
   "metadata": {},
   "outputs": [],
   "source": [
    "def hyperparameter_tuning_fifth(params):\n",
    "    clf = RandomForestClassifier(**params, class_weight = {0:1, 1:2.5})\n",
    "    acc = cross_val_score(clf, X, y, scoring=\"accuracy\").mean()\n",
    "    return {\"loss\": -acc, \"status\": STATUS_OK}"
   ]
  },
  {
   "cell_type": "code",
   "execution_count": 86,
   "id": "816b31d5-6f00-4679-bb04-383bb8f0a69c",
   "metadata": {},
   "outputs": [
    {
     "name": "stdout",
     "output_type": "stream",
     "text": [
      "100%|████████████████████████████████████████████| 50/50 [1:28:47<00:00, 106.54s/trial, best loss: -0.9791667053673345]\n",
      "Best: {'criterion': 0, 'max_depth': 38.22266362146147, 'max_features': 3, 'n_estimators': 0}\n"
     ]
    }
   ],
   "source": [
    "trials_five = Trials()\n",
    "\n",
    "best_five = fmin(\n",
    "    fn=hyperparameter_tuning_fifth,\n",
    "    space = space_five, \n",
    "    algo=tpe.suggest, \n",
    "    max_evals=50, \n",
    "    trials=trials_five\n",
    ")\n",
    "\n",
    "print(\"Best: {}\".format(best_five))"
   ]
  },
  {
   "cell_type": "markdown",
   "id": "1e17cebe-44f3-422a-8cc5-50fb84383595",
   "metadata": {},
   "source": [
    "### Cross Validation: ROC_AUC Score of The Random Forest Model With class_weight = {0:1, 1: 2.5} And Tuned Parameters"
   ]
  },
  {
   "cell_type": "code",
   "execution_count": 99,
   "id": "b38b6f11-55a7-490f-9cd5-784a2f474ebf",
   "metadata": {},
   "outputs": [],
   "source": [
    "fifth_rf = RandomForestClassifier(criterion = \"gini\", \n",
    "                                   max_depth = 38, \n",
    "                                   max_features = 24,\n",
    "                                   n_estimators = 200,\n",
    "                                   class_weight = {0:1, 1:2.5})"
   ]
  },
  {
   "cell_type": "code",
   "execution_count": 100,
   "id": "0c6dcd5d-dffa-45b3-bd28-8923d146cf45",
   "metadata": {},
   "outputs": [
    {
     "data": {
      "text/plain": [
       "0.9633466214407141"
      ]
     },
     "execution_count": 100,
     "metadata": {},
     "output_type": "execute_result"
    }
   ],
   "source": [
    "fifth_cv_result = cross_val_score(fifth_rf, X_s, y_s, cv=10, scoring=\"roc_auc\").mean()\n",
    "fifth_cv_result"
   ]
  },
  {
   "cell_type": "markdown",
   "id": "81415ac7-fbb6-43c5-945e-813e669ba6eb",
   "metadata": {},
   "source": [
    "## Result Summary "
   ]
  },
  {
   "cell_type": "code",
   "execution_count": 104,
   "id": "4b57bc6c-128e-460b-a361-e7c5540c33b5",
   "metadata": {
    "tags": [
     "hide-input"
    ]
   },
   "outputs": [
    {
     "data": {
      "text/html": [
       "<div>\n",
       "<style scoped>\n",
       "    .dataframe tbody tr th:only-of-type {\n",
       "        vertical-align: middle;\n",
       "    }\n",
       "\n",
       "    .dataframe tbody tr th {\n",
       "        vertical-align: top;\n",
       "    }\n",
       "\n",
       "    .dataframe thead th {\n",
       "        text-align: right;\n",
       "    }\n",
       "</style>\n",
       "<table border=\"1\" class=\"dataframe\">\n",
       "  <thead>\n",
       "    <tr style=\"text-align: right;\">\n",
       "      <th></th>\n",
       "      <th>class_weight</th>\n",
       "      <th>criterion</th>\n",
       "      <th>max_depth</th>\n",
       "      <th>max_features</th>\n",
       "      <th>n_estimators</th>\n",
       "      <th>CV Accuracy (%)</th>\n",
       "      <th>CV ROC AUC</th>\n",
       "    </tr>\n",
       "  </thead>\n",
       "  <tbody>\n",
       "    <tr>\n",
       "      <th>0</th>\n",
       "      <td>{0:1, 1:1.3}</td>\n",
       "      <td>gini</td>\n",
       "      <td>35</td>\n",
       "      <td>18</td>\n",
       "      <td>200</td>\n",
       "      <td>97.9237</td>\n",
       "      <td>0.963946</td>\n",
       "    </tr>\n",
       "    <tr>\n",
       "      <th>1</th>\n",
       "      <td>{0:1, 1:1.6}</td>\n",
       "      <td>gini</td>\n",
       "      <td>35</td>\n",
       "      <td>24</td>\n",
       "      <td>300</td>\n",
       "      <td>97.9446</td>\n",
       "      <td>0.964085</td>\n",
       "    </tr>\n",
       "    <tr>\n",
       "      <th>2</th>\n",
       "      <td>{0:1, 1:1.9}</td>\n",
       "      <td>gini</td>\n",
       "      <td>32</td>\n",
       "      <td>28</td>\n",
       "      <td>200</td>\n",
       "      <td>97.9726</td>\n",
       "      <td>0.960880</td>\n",
       "    </tr>\n",
       "    <tr>\n",
       "      <th>3</th>\n",
       "      <td>{0:1, 1:2.2}</td>\n",
       "      <td>gini</td>\n",
       "      <td>39</td>\n",
       "      <td>30</td>\n",
       "      <td>400</td>\n",
       "      <td>97.9376</td>\n",
       "      <td>0.960787</td>\n",
       "    </tr>\n",
       "    <tr>\n",
       "      <th>4</th>\n",
       "      <td>{0:1, 1:2.5}</td>\n",
       "      <td>gini</td>\n",
       "      <td>38</td>\n",
       "      <td>24</td>\n",
       "      <td>200</td>\n",
       "      <td>97.9167</td>\n",
       "      <td>0.963347</td>\n",
       "    </tr>\n",
       "  </tbody>\n",
       "</table>\n",
       "</div>"
      ],
      "text/plain": [
       "   class_weight criterion  max_depth  max_features  n_estimators  \\\n",
       "0  {0:1, 1:1.3}      gini         35            18           200   \n",
       "1  {0:1, 1:1.6}      gini         35            24           300   \n",
       "2  {0:1, 1:1.9}      gini         32            28           200   \n",
       "3  {0:1, 1:2.2}      gini         39            30           400   \n",
       "4  {0:1, 1:2.5}      gini         38            24           200   \n",
       "\n",
       "   CV Accuracy (%)  CV ROC AUC  \n",
       "0          97.9237    0.963946  \n",
       "1          97.9446    0.964085  \n",
       "2          97.9726    0.960880  \n",
       "3          97.9376    0.960787  \n",
       "4          97.9167    0.963347  "
      ]
     },
     "execution_count": 104,
     "metadata": {},
     "output_type": "execute_result"
    }
   ],
   "source": [
    "data = {'class_weight': ['{0:1, 1:1.3}', '{0:1, 1:1.6}', '{0:1, 1:1.9}', '{0:1, 1:2.2}', '{0:1, 1:2.5}'],\n",
    "        'criterion': ['gini', 'gini', 'gini', 'gini', 'gini'],\n",
    "       'max_depth': [35, 35, 32,39, 38],\n",
    "       'max_features' : [18, 24, 28, 30, 24],\n",
    "       'n_estimators' : [200, 300, 200, 400, 200],\n",
    "       'CV Accuracy (%)' : [97.9237, 97.9446, 97.9726, 97.9376, 97.9167],\n",
    "       'CV ROC AUC' : [0.963946, 0.964085, 0.96088, 0.960787, 0.963347]}\n",
    "\n",
    "df = pd.DataFrame(data)\n",
    "df"
   ]
  },
  {
   "cell_type": "markdown",
   "id": "1786748a-81e7-4ddc-b626-cba4f37fdf17",
   "metadata": {},
   "source": [
    "The result shows that the model with class_weight = {0:1, 1:1.9} has the highest accuracy and the model with class_weight = {0:1, 1:1.6} has the highest ROC AUC on the training set.\n",
    "\n",
    "**Given the result, we will use the model with *class_weight = {0:1, 1:1.6}* since the model has the most balanced CV accuracy and ROC AUC result.**  "
   ]
  }
 ],
 "metadata": {
  "kernelspec": {
   "display_name": "Python 3 (ipykernel)",
   "language": "python",
   "name": "python3"
  },
  "language_info": {
   "codemirror_mode": {
    "name": "ipython",
    "version": 3
   },
   "file_extension": ".py",
   "mimetype": "text/x-python",
   "name": "python",
   "nbconvert_exporter": "python",
   "pygments_lexer": "ipython3",
   "version": "3.9.13"
  }
 },
 "nbformat": 4,
 "nbformat_minor": 5
}
