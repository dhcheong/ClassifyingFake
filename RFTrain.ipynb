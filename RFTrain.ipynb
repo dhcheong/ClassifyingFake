{
 "cells": [
  {
   "cell_type": "markdown",
   "id": "a4cf5eac-d87b-4de6-b547-a538204806f6",
   "metadata": {},
   "source": [
    "# Random Forest Result: Training Dataset"
   ]
  },
  {
   "cell_type": "markdown",
   "id": "056fd6cc-a040-4cdd-8f71-a1b00ddbad79",
   "metadata": {},
   "source": [
    "In this section, we will fit the random forest model to our training dataset and see its performance. We will use the tuned hyperparameters in the previous [section](TuningHPRF.ipynb)."
   ]
  },
  {
   "cell_type": "code",
   "execution_count": 38,
   "id": "04cc4f88-3e7b-49d9-a518-23a0c06955fb",
   "metadata": {
    "tags": [
     "hide-output"
    ]
   },
   "outputs": [],
   "source": [
    "from sklearn.ensemble import RandomForestClassifier\n",
    "import matplotlib.pyplot as plt\n",
    "from sklearn.metrics import confusion_matrix, ConfusionMatrixDisplay\n",
    "from sklearn.metrics import classification_report\n",
    "import numpy as np \n",
    "import pandas as pd \n",
    "import pickle"
   ]
  },
  {
   "cell_type": "code",
   "execution_count": 4,
   "id": "a48fa84b-3540-44a8-8129-fed75ea30f13",
   "metadata": {},
   "outputs": [],
   "source": [
    "feature_matrix_train = pd.read_csv(\"./data/final_feature_matrix.csv\", index_col = 0)\n",
    "X = feature_matrix_train.drop(\"fraudulent\", axis = 1).values\n",
    "y = feature_matrix_train.fraudulent.values"
   ]
  },
  {
   "cell_type": "code",
   "execution_count": 5,
   "id": "900170a4-aaa2-45c4-9a05-10af308c98cd",
   "metadata": {},
   "outputs": [
    {
     "data": {
      "text/plain": [
       "RandomForestClassifier(class_weight={0: 1, 1: 1.6}, max_depth=35,\n",
       "                       max_features=24, n_estimators=300)"
      ]
     },
     "execution_count": 5,
     "metadata": {},
     "output_type": "execute_result"
    }
   ],
   "source": [
    "rf_model = RandomForestClassifier(criterion = \"gini\",\n",
    "                                  max_depth = 35,\n",
    "                                  max_features = 24,\n",
    "                                  n_estimators = 300,\n",
    "                                  class_weight = {0:1, 1:1.6}\n",
    "                                 )\n",
    "rf_model.fit(X,y)"
   ]
  },
  {
   "cell_type": "code",
   "execution_count": 7,
   "id": "87d4abbf-c2c8-4ec7-8332-8cb59e4a2391",
   "metadata": {},
   "outputs": [],
   "source": [
    "y_predict =rf_model.predict(X)"
   ]
  },
  {
   "cell_type": "code",
   "execution_count": 9,
   "id": "760c3105-a9b9-4297-b88c-e4f17026998c",
   "metadata": {},
   "outputs": [
    {
     "data": {
      "text/plain": [
       "<sklearn.metrics._plot.confusion_matrix.ConfusionMatrixDisplay at 0x2144ecb7370>"
      ]
     },
     "execution_count": 9,
     "metadata": {},
     "output_type": "execute_result"
    },
    {
     "data": {
      "image/png": "[encoded data removed]",
      "text/plain": [
       "<Figure size 640x480 with 2 Axes>"
      ]
     },
     "metadata": {},
     "output_type": "display_data"
    }
   ],
   "source": [
    "cm = confusion_matrix(y, y_predict, labels=rf_model.classes_)\n",
    "disp = ConfusionMatrixDisplay(confusion_matrix=cm, display_labels=rf_model.classes_)\n",
    "disp.plot()"
   ]
  },
  {
   "cell_type": "code",
   "execution_count": 11,
   "id": "f2a902c9-0ac1-4474-885e-ac08b5960e76",
   "metadata": {},
   "outputs": [
    {
     "name": "stdout",
     "output_type": "stream",
     "text": [
      "              precision    recall  f1-score   support\n",
      "\n",
      "           0       1.00      1.00      1.00     13611\n",
      "           1       1.00      0.96      0.98       693\n",
      "\n",
      "    accuracy                           1.00     14304\n",
      "   macro avg       1.00      0.98      0.99     14304\n",
      "weighted avg       1.00      1.00      1.00     14304\n",
      "\n"
     ]
    }
   ],
   "source": [
    "print(classification_report(y, y_predict))"
   ]
  },
  {
   "cell_type": "code",
   "execution_count": 27,
   "id": "08277ed0-6178-45df-8998-29ad5f5d4fa8",
   "metadata": {},
   "outputs": [],
   "source": [
    "feature_name = feature_matrix_train.drop(\"fraudulent\", axis = 1).columns"
   ]
  },
  {
   "cell_type": "code",
   "execution_count": 36,
   "id": "9518dcc2-2b9b-440c-96bb-15e71bc2c257",
   "metadata": {},
   "outputs": [
    {
     "data": {
      "text/html": [
       "<div>\n",
       "<style scoped>\n",
       "    .dataframe tbody tr th:only-of-type {\n",
       "        vertical-align: middle;\n",
       "    }\n",
       "\n",
       "    .dataframe tbody tr th {\n",
       "        vertical-align: top;\n",
       "    }\n",
       "\n",
       "    .dataframe thead th {\n",
       "        text-align: right;\n",
       "    }\n",
       "</style>\n",
       "<table border=\"1\" class=\"dataframe\">\n",
       "  <thead>\n",
       "    <tr style=\"text-align: right;\">\n",
       "      <th></th>\n",
       "      <th>feature_names</th>\n",
       "      <th>importances</th>\n",
       "    </tr>\n",
       "  </thead>\n",
       "  <tbody>\n",
       "    <tr>\n",
       "      <th>0</th>\n",
       "      <td>company_profile</td>\n",
       "      <td>0.077765</td>\n",
       "    </tr>\n",
       "    <tr>\n",
       "      <th>1</th>\n",
       "      <td>has_company_logo</td>\n",
       "      <td>0.047659</td>\n",
       "    </tr>\n",
       "    <tr>\n",
       "      <th>2</th>\n",
       "      <td>industry_Oil &amp; Energy</td>\n",
       "      <td>0.046337</td>\n",
       "    </tr>\n",
       "    <tr>\n",
       "      <th>3</th>\n",
       "      <td>earn_desc</td>\n",
       "      <td>0.034458</td>\n",
       "    </tr>\n",
       "    <tr>\n",
       "      <th>4</th>\n",
       "      <td>function_Administrative</td>\n",
       "      <td>0.032784</td>\n",
       "    </tr>\n",
       "    <tr>\n",
       "      <th>5</th>\n",
       "      <td>time_desc</td>\n",
       "      <td>0.030940</td>\n",
       "    </tr>\n",
       "    <tr>\n",
       "      <th>6</th>\n",
       "      <td>requir_req</td>\n",
       "      <td>0.027134</td>\n",
       "    </tr>\n",
       "    <tr>\n",
       "      <th>7</th>\n",
       "      <td>per_desc</td>\n",
       "      <td>0.024678</td>\n",
       "    </tr>\n",
       "    <tr>\n",
       "      <th>8</th>\n",
       "      <td>skill_desc</td>\n",
       "      <td>0.020639</td>\n",
       "    </tr>\n",
       "    <tr>\n",
       "      <th>9</th>\n",
       "      <td>posit_desc</td>\n",
       "      <td>0.020025</td>\n",
       "    </tr>\n",
       "  </tbody>\n",
       "</table>\n",
       "</div>"
      ],
      "text/plain": [
       "             feature_names  importances\n",
       "0          company_profile     0.077765\n",
       "1         has_company_logo     0.047659\n",
       "2    industry_Oil & Energy     0.046337\n",
       "3                earn_desc     0.034458\n",
       "4  function_Administrative     0.032784\n",
       "5                time_desc     0.030940\n",
       "6               requir_req     0.027134\n",
       "7                 per_desc     0.024678\n",
       "8               skill_desc     0.020639\n",
       "9               posit_desc     0.020025"
      ]
     },
     "execution_count": 36,
     "metadata": {},
     "output_type": "execute_result"
    }
   ],
   "source": [
    "importances_df = pd.DataFrame({\"feature_names\" : feature_name, \n",
    "                               \"importances\" : rf_model.feature_importances_})\n",
    "importances_df.sort_values(\"importances\", ascending = False).reset_index(drop = True)[0:10]"
   ]
  },
  {
   "cell_type": "code",
   "execution_count": 39,
   "id": "eae48de8-5641-422a-b192-f37d2bf4a2fa",
   "metadata": {},
   "outputs": [],
   "source": [
    "with open('./pickle/rf_model.pkl', 'wb') as f:\n",
    "        pickle.dump(rf_model, f)"
   ]
  }
 ],
 "metadata": {
  "kernelspec": {
   "display_name": "Python 3 (ipykernel)",
   "language": "python",
   "name": "python3"
  },
  "language_info": {
   "codemirror_mode": {
    "name": "ipython",
    "version": 3
   },
   "file_extension": ".py",
   "mimetype": "text/x-python",
   "name": "python",
   "nbconvert_exporter": "python",
   "pygments_lexer": "ipython3",
   "version": "3.9.13"
  }
 },
 "nbformat": 4,
 "nbformat_minor": 5
}
